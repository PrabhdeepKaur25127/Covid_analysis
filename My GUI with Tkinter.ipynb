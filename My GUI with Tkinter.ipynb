{
 "cells": [
  {
   "cell_type": "code",
   "execution_count": null,
   "metadata": {},
   "outputs": [],
   "source": [
    "import tkinter as tk \n",
    "window=tk.Tk()\n",
    "window.configure(background=\"white\")\n",
    "window.title(\"Pandemic Analytics Engine\")\n",
    "window.geometry('550x400')\n",
    "a=tk.Label(window, text = \"Pandemic Analyzer\", fg=\"blue\", bg=\"white\", font=\"Helvetica 24 bold underline\").place(x=10, y=10)\n",
    "b=tk.Label(window, text = \"Select State/UT :\", fg=\"sky blue\", bg=\"white\", font=\"Helvetica 18 bold\").place(x=10, y=70)\n",
    "c=tk.Label(window, text = \"Infected :\", fg=\"yellow\", bg=\"white\", font=\"Helvetica 18 italic\").place(x=10, y=130)\n",
    "d=tk.Label(window, text = \"Recovered :\", fg=\"green\", bg=\"white\", font=\"Helvetica 18 italic\").place(x=10, y=190)\n",
    "e=tk.Label(window, text = \"Deceased :\", fg=\"red\", bg=\"white\", font=\"Helvetica 18 italic\").place(x=10, y=250)\n",
    "f=tk.Label(window, text = \"Value :\", fg=\"purple\", bg=\"white\", font=\"Helvetica 18 italic bold\").place(x=10, y=350)\n",
    "variable = tk.StringVar(window)\n",
    "variable.set(\"Select\")\n",
    "states=sorted(states)\n",
    "dropdownlist1=tk.OptionMenu(window,variable,*states).place(x=220, y=70)\n",
    "infs=tk.IntVar()\n",
    "r=tk.IntVar()\n",
    "d=tk.IntVar()\n",
    "e=tk.IntVar()\n",
    "inf=tk.Entry(window,textvariable=infs,bg=\"yellow\").place(x=220,y=135)\n",
    "re=tk.Entry(window,textvariable=r,bg=\"green\").place(x=220,y=195)\n",
    "de=tk.Entry(window,textvariable=d,bg=\"red\").place(x=220,y=255)\n",
    "va=tk.Entry(window,textvariable=d,bg=\"pink\").place(x=220,y=355)\n",
    "ifr_button=tk.Button(window,text=\"IFR\",height=2,width=10,bg=\"light grey\").place(x=200,y=300)\n",
    "cmr_button=tk.Button(window,text=\"CMR\",height=2,width=10,bg=\"light grey\").place(x=300,y=300)\n",
    "submit=tk.Button(window,text=\"SUBMIT\",height=2,width=10,bg=\"light grey\").place(x=100,y=300)\n",
    "              \n",
    "        \n",
    "window.mainloop()"
   ]
  },
  {
   "cell_type": "code",
   "execution_count": 2,
   "metadata": {},
   "outputs": [
    {
     "name": "stdout",
     "output_type": "stream",
     "text": [
      "<class 'pandas.core.frame.DataFrame'>\n",
      "RangeIndex: 36 entries, 0 to 35\n",
      "Data columns (total 5 columns):\n",
      " #   Column     Non-Null Count  Dtype \n",
      "---  ------     --------------  ----- \n",
      " 0   State      36 non-null     object\n",
      " 1   Confirmed  36 non-null     int64 \n",
      " 2   Active     36 non-null     int64 \n",
      " 3   Recovered  36 non-null     int64 \n",
      " 4   Deceased   36 non-null     int64 \n",
      "dtypes: int64(4), object(1)\n",
      "memory usage: 1.5+ KB\n"
     ]
    },
    {
     "data": {
      "text/plain": [
       "{'Andaman and Nicobar',\n",
       " 'Andhra Pradesh',\n",
       " 'Arunachal Pradesh',\n",
       " 'Assam',\n",
       " 'Bihar',\n",
       " 'Chandigarh',\n",
       " 'Chhattisgarh',\n",
       " 'Dadra and Nagar Haveli',\n",
       " 'Delhi',\n",
       " 'Goa',\n",
       " 'Gujarat',\n",
       " 'Haryana',\n",
       " 'Himachal Pradesh',\n",
       " 'Jammu and Kashmir',\n",
       " 'Jharkhand',\n",
       " 'Karnataka',\n",
       " 'Kerala',\n",
       " 'Ladakh',\n",
       " 'Lakshadweep',\n",
       " 'Madhya Pradesh',\n",
       " 'Maharashtra',\n",
       " 'Manipur',\n",
       " 'Meghalaya',\n",
       " 'Mizoram',\n",
       " 'Nagaland',\n",
       " 'Odisha',\n",
       " 'Puducherry',\n",
       " 'Punjab',\n",
       " 'Rajasthan',\n",
       " 'Sikkim',\n",
       " 'Tamil Nadu',\n",
       " 'Telengana',\n",
       " 'Tripura',\n",
       " 'Uttar Pradesh',\n",
       " 'Uttarakhand',\n",
       " 'West Bengal'}"
      ]
     },
     "execution_count": 2,
     "metadata": {},
     "output_type": "execute_result"
    }
   ],
   "source": [
    "import pandas as pd\n",
    "covid_data=pd.read_csv(\"coviddata.csv\",delimiter=\",\")\n",
    "covid_data.info()\n",
    "states=set(covid_data[\"State\"])\n",
    "states\n"
   ]
  },
  {
   "cell_type": "code",
   "execution_count": null,
   "metadata": {},
   "outputs": [],
   "source": [
    "\n"
   ]
  },
  {
   "cell_type": "code",
   "execution_count": null,
   "metadata": {},
   "outputs": [],
   "source": []
  }
 ],
 "metadata": {
  "kernelspec": {
   "display_name": "Python 3",
   "language": "python",
   "name": "python3"
  },
  "language_info": {
   "codemirror_mode": {
    "name": "ipython",
    "version": 3
   },
   "file_extension": ".py",
   "mimetype": "text/x-python",
   "name": "python",
   "nbconvert_exporter": "python",
   "pygments_lexer": "ipython3",
   "version": "3.7.6"
  }
 },
 "nbformat": 4,
 "nbformat_minor": 4
}
