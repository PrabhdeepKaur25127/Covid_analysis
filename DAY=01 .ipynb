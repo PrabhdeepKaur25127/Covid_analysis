{
 "cells": [
  {
   "cell_type": "markdown",
   "metadata": {},
   "source": [
    "# ASSIGNMENT"
   ]
  },
  {
   "cell_type": "code",
   "execution_count": 2,
   "metadata": {},
   "outputs": [
    {
     "data": {
      "text/plain": [
       "'Prabhdeep Kaur Bhardwaj'"
      ]
     },
     "execution_count": 2,
     "metadata": {},
     "output_type": "execute_result"
    }
   ],
   "source": [
    "first_name=\"Prabhdeep\" # first name\n",
    "middle_name=\"Kaur\"\n",
    "last_name=\"Bhardwaj\"\n",
    "full_name=first_name+\" \"+middle_name+\" \"+last_name\n",
    "full_name"
   ]
  },
  {
   "cell_type": "code",
   "execution_count": 3,
   "metadata": {},
   "outputs": [
    {
     "data": {
      "text/plain": [
       "'jawdrahB ruaK peedhbarP'"
      ]
     },
     "execution_count": 3,
     "metadata": {},
     "output_type": "execute_result"
    }
   ],
   "source": [
    "full_name[::-1]"
   ]
  },
  {
   "cell_type": "code",
   "execution_count": 4,
   "metadata": {},
   "outputs": [
    {
     "data": {
      "text/plain": [
       "'de'"
      ]
     },
     "execution_count": 4,
     "metadata": {},
     "output_type": "execute_result"
    }
   ],
   "source": [
    "full_name[5:9:2]"
   ]
  },
  {
   "cell_type": "markdown",
   "metadata": {},
   "source": [
    "# IN SESSION TASK"
   ]
  },
  {
   "cell_type": "code",
   "execution_count": 13,
   "metadata": {},
   "outputs": [],
   "source": [
    "District=\"Gwalior\"\n",
    "Infected_total_tilldate=1234\n",
    "Infected_june10=12\n",
    "Infected_june11=2\n",
    "Infected_june12=13\n",
    "Change_1=((Infected_june10-Infected_june11)/Infected_june10)*100\n"
   ]
  },
  {
   "cell_type": "markdown",
   "metadata": {},
   "source": [
    "<i><u> FROM JUNE 10 TO JUNE 11 </u></i>"
   ]
  },
  {
   "cell_type": "code",
   "execution_count": 14,
   "metadata": {},
   "outputs": [
    {
     "name": "stdout",
     "output_type": "stream",
     "text": [
      "percentage decrease of infected person from June 10 to June 11 is 83.333%\n"
     ]
    }
   ],
   "source": [
    "print(\"percentage decrease of infected person from June 10 to June 11 is {0:.3f}\".format(Change_1)+\"%\")"
   ]
  },
  {
   "cell_type": "markdown",
   "metadata": {},
   "source": [
    "<i><u> FROM JUNE 11 TO JUNE 12 </u></i>"
   ]
  },
  {
   "cell_type": "code",
   "execution_count": 15,
   "metadata": {},
   "outputs": [
    {
     "name": "stdout",
     "output_type": "stream",
     "text": [
      "percentage increase of infected person from June 11 to June 12 is 550.000%\n"
     ]
    }
   ],
   "source": [
    "Change_2=abs(((Infected_june11-Infected_june12)/Infected_june11)*100)\n",
    "print(\"percentage increase of infected person from June 11 to June 12 is {0:.3f}\".format(Change_2)+\"%\")\n"
   ]
  },
  {
   "cell_type": "markdown",
   "metadata": {},
   "source": [
    "<i><u> FROM JUNE 10 TO JUNE 12 </u></i>"
   ]
  },
  {
   "cell_type": "code",
   "execution_count": 10,
   "metadata": {},
   "outputs": [
    {
     "name": "stdout",
     "output_type": "stream",
     "text": [
      "percentage increase of infected person from June 11 to June 12 is 8.333%\n"
     ]
    }
   ],
   "source": [
    "Change_3=abs(((Infected_june12-Infected_june10)/Infected_june10)*100)\n",
    "print(\"percentage increase of infected person from June 11 to June 12 is {0:.3f}\".format(Change_3)+\"%\")"
   ]
  }
 ],
 "metadata": {
  "kernelspec": {
   "display_name": "Python 3",
   "language": "python",
   "name": "python3"
  },
  "language_info": {
   "codemirror_mode": {
    "name": "ipython",
    "version": 3
   },
   "file_extension": ".py",
   "mimetype": "text/x-python",
   "name": "python",
   "nbconvert_exporter": "python",
   "pygments_lexer": "ipython3",
   "version": "3.7.6"
  }
 },
 "nbformat": 4,
 "nbformat_minor": 4
}
