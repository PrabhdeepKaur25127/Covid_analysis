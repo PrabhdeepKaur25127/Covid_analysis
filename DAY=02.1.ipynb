{
 "cells": [
  {
   "cell_type": "markdown",
   "metadata": {},
   "source": [
    "# IN SESSION TASK - 1"
   ]
  },
  {
   "cell_type": "code",
   "execution_count": 30,
   "metadata": {},
   "outputs": [
    {
     "data": {
      "text/plain": [
       "{'Punjab': 5668,\n",
       " 'Himachal Pradesh': 979,\n",
       " 'Kerela': 4593,\n",
       " 'Tamil Nadu': 94049,\n",
       " 'Goa': 1387}"
      ]
     },
     "execution_count": 30,
     "metadata": {},
     "output_type": "execute_result"
    }
   ],
   "source": [
    "states=[\"Punjab\",\"Himachal Pradesh\",\"Kerela\",\"Tamil Nadu\",\"Goa\"]\n",
    "infected=[5668,979,4593,94049,1387]\n",
    "recovered=(3867,614,2439,52926,670)\n",
    "res={states[i]:infected[i] for i in range(len(infected))}\n",
    "       \n",
    "res\n",
    "\n",
    "\n"
   ]
  },
  {
   "cell_type": "markdown",
   "metadata": {},
   "source": [
    "# IN SESSION TASK - 2"
   ]
  },
  {
   "cell_type": "code",
   "execution_count": 19,
   "metadata": {},
   "outputs": [],
   "source": [
    "district=\"mumbai\"\n",
    "infected=136596\n",
    "recovered=67890\n",
    "deaths=5732\n",
    "def ifr(deaths,infected):\n",
    "    ifr_value=(deaths/infected)*100\n",
    "    print(\" the ifr value is {:.3f}\".format(ifr_value)+\" %\")\n",
    "    \n",
    "\n"
   ]
  },
  {
   "cell_type": "code",
   "execution_count": 20,
   "metadata": {},
   "outputs": [
    {
     "name": "stdout",
     "output_type": "stream",
     "text": [
      " the ifr value is 4.196 %\n"
     ]
    }
   ],
   "source": [
    "ifr(deaths,infected)"
   ]
  },
  {
   "cell_type": "code",
   "execution_count": 22,
   "metadata": {},
   "outputs": [
    {
     "name": "stdout",
     "output_type": "stream",
     "text": [
      " the cmr value is 7.79 %\n"
     ]
    }
   ],
   "source": [
    "def cmr(deaths,recovered):\n",
    "    cmr_value=(deaths/(recovered+deaths))*100\n",
    "    print(\" the cmr value is {:.2f}\".format(cmr_value)+\" %\")\n",
    "cmr(deaths,recovered)"
   ]
  }
 ],
 "metadata": {
  "kernelspec": {
   "display_name": "Python 3",
   "language": "python",
   "name": "python3"
  },
  "language_info": {
   "codemirror_mode": {
    "name": "ipython",
    "version": 3
   },
   "file_extension": ".py",
   "mimetype": "text/x-python",
   "name": "python",
   "nbconvert_exporter": "python",
   "pygments_lexer": "ipython3",
   "version": "3.7.6"
  }
 },
 "nbformat": 4,
 "nbformat_minor": 4
}
